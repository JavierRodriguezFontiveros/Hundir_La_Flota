{
 "cells": [
  {
   "cell_type": "code",
   "execution_count": 1,
   "metadata": {},
   "outputs": [],
   "source": [
    "import numpy as np\n",
    "import random\n",
    "import time\n"
   ]
  },
  {
   "cell_type": "code",
   "execution_count": 2,
   "metadata": {},
   "outputs": [],
   "source": [
    "def dibujar_batalla_barcos():\n",
    "    escena = [\n",
    "        \"      __|__                     __|__      \",\n",
    "        \"     |o o o|                   |o o o|     \",\n",
    "        \"  ___/_____/\\\\__             ___/_____/\\\\__   \",\n",
    "        \"  \\\\           /             \\\\           /   \",\n",
    "        \"~~~~~~~~~~~~~~~~~~~~~~~~~~~~~~~~~~~~~~~~~~~~~~\",\n",
    "        \"               #-------->>                    \",\n",
    "        \"                BOOOOOM!                      \",]\n",
    "    for linea in escena:\n",
    "        print(linea)"
   ]
  },
  {
   "cell_type": "code",
   "execution_count": 3,
   "metadata": {},
   "outputs": [],
   "source": [
    "def crear_tablero(tamaño):\n",
    "    tablero = np.full((tamaño, tamaño), \"_\")\n",
    "    return tablero"
   ]
  },
  {
   "cell_type": "code",
   "execution_count": 4,
   "metadata": {},
   "outputs": [],
   "source": [
    "def crear_barco(eslora, tablero):\n",
    "    while True:\n",
    "        casilla_0 = (random.randint(0, 9), random.randint(0, 9))\n",
    "        orientacion = random.choice([\"Vertical\", \"Horizontal\"])\n",
    "\n",
    "        barco = [casilla_0]\n",
    "        casilla = casilla_0\n",
    "\n",
    "        for _ in range(1, eslora):\n",
    "            if orientacion == \"Vertical\":\n",
    "                nueva_casilla = (casilla[0] + 1, casilla[1])\n",
    "            else:\n",
    "                nueva_casilla = (casilla[0], casilla[1] + 1)\n",
    "\n",
    "            if nueva_casilla[0] > 9 or nueva_casilla[1] > 9:\n",
    "                break  \n",
    "            barco.append(nueva_casilla)\n",
    "            casilla = nueva_casilla\n",
    "\n",
    "        if len(barco) == eslora:\n",
    "            if not comprobar_colision(barco, tablero):\n",
    "                return barco"
   ]
  },
  {
   "cell_type": "code",
   "execution_count": 5,
   "metadata": {},
   "outputs": [],
   "source": [
    "def comprobar_colision(barco, tablero): \n",
    "    for i, j in barco:\n",
    "        if tablero[i][j] == 'O':\n",
    "            return True\n",
    "    return False"
   ]
  },
  {
   "cell_type": "code",
   "execution_count": 6,
   "metadata": {},
   "outputs": [],
   "source": [
    "def crear_flota(tablero, esloras):\n",
    "    return [crear_barco(eslora, tablero) for eslora in esloras]"
   ]
  },
  {
   "cell_type": "code",
   "execution_count": 7,
   "metadata": {},
   "outputs": [],
   "source": [
    "def colocar_flota(barcos, tablero): \n",
    "    for barco in barcos:\n",
    "        for i, j in barco:\n",
    "            tablero[i][j] = 'O'  \n",
    "    return tablero"
   ]
  },
  {
   "cell_type": "code",
   "execution_count": 8,
   "metadata": {},
   "outputs": [],
   "source": [
    "def generar_nuevo_tablero():\n",
    "    tablero_usuario = crear_tablero(10)\n",
    "    flota_usuario = crear_flota(tablero_usuario, [2, 2, 2, 3, 3, 4])\n",
    "    tablero_final = colocar_flota(flota_usuario, tablero_usuario)\n",
    "    return tablero_final"
   ]
  },
  {
   "cell_type": "code",
   "execution_count": 9,
   "metadata": {},
   "outputs": [],
   "source": [
    "def sistema_de_turnos(tablero_usuario, tablero_maquina, flota_usuario, flota_maquina, modo):\n",
    "    print(\"Que comience el juego\")\n",
    "    barcos_hundidos_usuario = 0\n",
    "    barcos_hundidos_maquina = 0\n",
    "\n",
    "    limite_puntos = 2 if modo == \"corto\" else len(tablero_maquina[tablero_maquina == \"O\"])\n",
    "\n",
    "    while barcos_hundidos_usuario < limite_puntos and barcos_hundidos_maquina < limite_puntos:\n",
    "        print(\"\\n--- Tu turno ---\")\n",
    "        barcos_hundidos_maquina += turno_usuario(tablero_maquina, flota_maquina)\n",
    "        mostrar_tablero(tablero_maquina)\n",
    "\n",
    "        if barcos_hundidos_maquina >= limite_puntos:\n",
    "            print(\"Has ganado makena.\")\n",
    "            break\n",
    "\n",
    "        time.sleep(1)\n",
    "\n",
    "        print(\"\\n--- Turno de la Máquina ---\")\n",
    "        barcos_hundidos_usuario += turno_maquina(tablero_usuario, flota_usuario)\n",
    "        mostrar_tablero(tablero_usuario)\n",
    "\n",
    "        if barcos_hundidos_usuario >= limite_puntos:\n",
    "            print(\"La máquina te ha ganado crack\")\n",
    "            break\n",
    "        \n",
    "        # Mostrar el conteo de barcos hundidos\n",
    "        print(f\"Barcos hundidos - Tú: {barcos_hundidos_maquina}, Máquina: {barcos_hundidos_usuario}\")\n"
   ]
  },
  {
   "cell_type": "code",
   "execution_count": 10,
   "metadata": {},
   "outputs": [],
   "source": [
    "def turno_usuario(tablero_maquina, flota_maquina):\n",
    "    while True:\n",
    "        try:\n",
    "            fila = int(input(\"Introduce la fila (1-10) a la que quieres disparar: \")) - 1\n",
    "            columna = int(input(\"Introduce la columna (1-10) a la que quieres disparar: \")) - 1\n",
    "            if not (0 <= fila <= 9) or not (0 <= columna <= 9):\n",
    "                print(\"Coordenadas fuera de rango, inténtelo de nuevo\")\n",
    "                continue\n",
    "        except ValueError:\n",
    "            print(\"Introduzca un número entre 1 y 10.\")\n",
    "            continue\n",
    "\n",
    "        resultado = disparar((fila, columna), tablero_maquina)\n",
    "        print(f\"Disparaste a {(fila + 1, columna + 1)}:\\n {resultado}\")\n",
    "\n",
    "        if resultado == \"Agua\":\n",
    "            print(\"Fallaste. Fin de tu turno.\")\n",
    "            return 0\n",
    "        elif resultado == \"Tocado\":\n",
    "            print(\"Has acertado, sigue disparando.\")\n",
    "            for barco in flota_maquina:\n",
    "                if barco_hundido(barco, tablero_maquina):\n",
    "                    print(\"Barco hundido\")\n",
    "                    return 1"
   ]
  },
  {
   "cell_type": "code",
   "execution_count": 11,
   "metadata": {},
   "outputs": [],
   "source": [
    "def turno_maquina(tablero_usuario, flota_usuario):\n",
    "    while True:\n",
    "        fila = random.randint(0, 9)\n",
    "        columna = random.randint(0, 9)\n",
    "\n",
    "        resultado = disparar((fila, columna), tablero_usuario)\n",
    "        print(f\"La máquina disparó a {(fila + 1, columna + 1)}: \\n {resultado}\")\n",
    "\n",
    "        if resultado == \"Agua\":\n",
    "            print(\"La máquina falló. Fin de su turno.\")\n",
    "            return 0  \n",
    "        elif resultado == \"Tocado\":\n",
    "            print(\"La máquina acertó. Sigue disparando.\")\n",
    "            for barco in flota_usuario:\n",
    "                if barco_hundido(barco, tablero_usuario):\n",
    "                    print(\"Barco hundido\")\n",
    "                    return 1"
   ]
  },
  {
   "cell_type": "code",
   "execution_count": 12,
   "metadata": {},
   "outputs": [],
   "source": [
    "def disparar(casilla, tablero):\n",
    "    fila, columna = casilla\n",
    "    if tablero[fila, columna] == \"O\":\n",
    "        tablero[fila, columna] = \"X\"\n",
    "        return \"Tocado\"\n",
    "    elif tablero[fila, columna] == '_':\n",
    "        tablero[fila, columna] = \"A\"\n",
    "        return \"Agua\"\n",
    "    else:\n",
    "        return \"Casilla repetida\""
   ]
  },
  {
   "cell_type": "code",
   "execution_count": 13,
   "metadata": {},
   "outputs": [],
   "source": [
    "def barco_hundido(barco, tablero):\n",
    "    for i, j in barco:\n",
    "        if tablero[i][j] != \"X\":\n",
    "            return False\n",
    "    return True"
   ]
  },
  {
   "cell_type": "code",
   "execution_count": 14,
   "metadata": {},
   "outputs": [],
   "source": [
    "def mostrar_tablero(tablero):\n",
    "    print(\"\\n--- Tablero de la máquina ---\")\n",
    "    for fila in tablero:\n",
    "        print(\" \".join(fila))"
   ]
  },
  {
   "cell_type": "code",
   "execution_count": 15,
   "metadata": {},
   "outputs": [],
   "source": [
    "def jugar():\n",
    "    print(\"Welcome to Battleship\")\n",
    "    time.sleep(1)\n",
    "\n",
    "    dibujar_batalla_barcos()\n",
    "    time.sleep(2)\n",
    "\n",
    "    modo = input(\"Hay dos modos de juego: Corto (cada jugador tendrá 6 barcos de eslora 1 y quien elimine antes dos barcos habrá ganado) o Largo (6 barcos cada uno y quien elimine los del contrincante antes habrá ganado). Introduzca: (Corto/Largo): \").lower()\n",
    "\n",
    "    print(\"Creando tu nuevo tablero...\")\n",
    "    time.sleep(1)\n",
    "    tablero_usuario = crear_tablero(10)\n",
    "    tablero_maquina = crear_tablero(10)\n",
    "\n",
    "    if modo == \"corto\":\n",
    "        flota_usuario = crear_flota(tablero_usuario, [1] * 6)\n",
    "        flota_maquina = crear_flota(tablero_maquina, [1] * 6)\n",
    "    else:\n",
    "        flota_usuario = crear_flota(tablero_usuario, [2, 2, 2, 3, 3, 4])\n",
    "        flota_maquina = crear_flota(tablero_maquina, [2, 2, 2, 3, 3, 4])\n",
    "        \n",
    "    colocar_flota(flota_usuario, tablero_usuario)\n",
    "    colocar_flota(flota_maquina, tablero_maquina)\n",
    "\n",
    "    time.sleep(0.5)\n",
    "    print(\"\\nTu tablero\")\n",
    "    mostrar_tablero(tablero_usuario)\n",
    "\n",
    "    while True:\n",
    "        respuesta = input(\"¿Te gusta tu tablero o generamos otro? (si/no): \").lower()    \n",
    "        if respuesta == \"si\":\n",
    "            print(\"Entonces jugarás con este, ¡BUENA SUERTE!\")\n",
    "            break\n",
    "        else:\n",
    "            tablero_usuario = crear_tablero(10)\n",
    "            flota_usuario = crear_flota(tablero_usuario, [2, 2, 2, 3, 3, 4])\n",
    "            colocar_flota(flota_usuario, tablero_usuario)\n",
    "            print(\"Nuevo tablero\")\n",
    "            mostrar_tablero(tablero_usuario)\n",
    "               \n",
    "    sistema_de_turnos(tablero_usuario, tablero_maquina, flota_usuario, flota_maquina, modo)"
   ]
  },
  {
   "cell_type": "code",
   "execution_count": 16,
   "metadata": {},
   "outputs": [],
   "source": [
    "def hundir_la_flota():\n",
    "    while True:\n",
    "        jugar()\n",
    "        jugar_nuevamente = input(\"¿Quieres jugar de nuevo? (si/no): \").lower()\n",
    "        if jugar_nuevamente != \"si\":\n",
    "            print(\"Saliendo del juego, que tenga buen día. No dude en volver a jugar.\")\n",
    "            break\n",
    "\n"
   ]
  }
 ],
 "metadata": {
  "kernelspec": {
   "display_name": "Python 3",
   "language": "python",
   "name": "python3"
  },
  "language_info": {
   "codemirror_mode": {
    "name": "ipython",
    "version": 3
   },
   "file_extension": ".py",
   "mimetype": "text/x-python",
   "name": "python",
   "nbconvert_exporter": "python",
   "pygments_lexer": "ipython3",
   "version": "3.12.5"
  }
 },
 "nbformat": 4,
 "nbformat_minor": 2
}
