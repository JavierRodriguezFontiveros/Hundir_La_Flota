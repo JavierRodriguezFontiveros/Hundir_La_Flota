{
 "cells": [
  {
   "cell_type": "code",
   "execution_count": 2,
   "metadata": {},
   "outputs": [],
   "source": [
    "#Bibliotecas\n",
    "import numpy as np\n",
    "import random\n",
    "import time"
   ]
  },
  {
   "cell_type": "code",
   "execution_count": 4,
   "metadata": {},
   "outputs": [
    {
     "name": "stdout",
     "output_type": "stream",
     "text": [
      "      __|__                     __|__      \n",
      "     |o o o|                   |o o o|     \n",
      "  ___/_____/\\__             ___/_____/\\__   \n",
      "  \\           /             \\           /   \n",
      "~~~~~~~~~~~~~~~~~~~~~~~~~~~~~~~~~~~~~~~~~~~~~~\n",
      "               #-------->>                    \n",
      "                BOOOOOM!                      \n"
     ]
    }
   ],
   "source": [
    "def dibujar_batalla_barcos():\n",
    "    escena = [\n",
    "        \"      __|__                     __|__      \",\n",
    "        \"     |o o o|                   |o o o|     \",\n",
    "        \"  ___/_____/\\\\__             ___/_____/\\\\__   \",\n",
    "        \"  \\\\           /             \\\\           /   \",\n",
    "        \"~~~~~~~~~~~~~~~~~~~~~~~~~~~~~~~~~~~~~~~~~~~~~~\",\n",
    "        \"               #-------->>                    \",\n",
    "        \"                BOOOOOM!                      \",]\n",
    "    for linea in escena:\n",
    "        print(linea)\n",
    "\n",
    "dibujar1 = dibujar_batalla_barcos()"
   ]
  },
  {
   "cell_type": "code",
   "execution_count": 56,
   "metadata": {},
   "outputs": [
    {
     "name": "stdout",
     "output_type": "stream",
     "text": [
      "[['_' '_' '_' '_' '_' '_' '_' '_' '_' '_']\n",
      " ['_' '_' '_' '_' '_' '_' '_' '_' '_' '_']\n",
      " ['_' '_' '_' '_' '_' '_' '_' '_' '_' '_']\n",
      " ['_' '_' '_' '_' '_' '_' '_' '_' '_' '_']\n",
      " ['_' '_' '_' '_' '_' '_' '_' '_' '_' '_']\n",
      " ['_' '_' '_' '_' '_' '_' '_' '_' '_' '_']\n",
      " ['_' '_' '_' '_' '_' '_' '_' '_' '_' '_']\n",
      " ['_' '_' '_' '_' '_' '_' '_' '_' '_' '_']\n",
      " ['_' '_' '_' '_' '_' '_' '_' '_' '_' '_']\n",
      " ['_' '_' '_' '_' '_' '_' '_' '_' '_' '_']]\n"
     ]
    }
   ],
   "source": [
    "def crear_tablero(tamaño):\n",
    "    tablero = np.full((tamaño,tamaño), \"_\")\n",
    "    return tablero\n",
    "\n",
    "tablerillo = crear_tablero(10)\n",
    "print(tablerillo)\n",
    "\n",
    "tablerillo1 = crear_tablero(10)\n",
    "\n"
   ]
  },
  {
   "cell_type": "code",
   "execution_count": 27,
   "metadata": {},
   "outputs": [
    {
     "name": "stdout",
     "output_type": "stream",
     "text": [
      "False\n"
     ]
    }
   ],
   "source": [
    "def comprobar_colision(barco, tablero): \n",
    "    for i, j in barco:\n",
    "        if tablero[i][j] == 'O':  \n",
    "            return True\n",
    "    return False                    \n",
    "\n",
    "#False = no hay colision, True = si hay colision"
   ]
  },
  {
   "cell_type": "code",
   "execution_count": 49,
   "metadata": {},
   "outputs": [
    {
     "name": "stdout",
     "output_type": "stream",
     "text": [
      "[(9, 4), (9, 5), (9, 6), (9, 7), (9, 8), (9, 9)]\n",
      "False\n"
     ]
    }
   ],
   "source": [
    "def crear_barco(eslora, tablero):\n",
    "    while True:\n",
    "        casilla_0 = (random.randint(0, 9), random.randint(0, 9))\n",
    "        orientacion = random.choice([\"Vertical\", \"Horizontal\"])\n",
    "\n",
    "        barco = [casilla_0]\n",
    "        casilla = casilla_0\n",
    "\n",
    "        for _ in range(1, eslora): #_sifnifica que se va iterar tantas veces se necesite, es una convencion de python\n",
    "            if orientacion == \"Vertical\":\n",
    "                nueva_casilla = (casilla[0] + 1, casilla[1])\n",
    "            else:\n",
    "                nueva_casilla = (casilla[0], casilla[1] + 1)\n",
    "\n",
    "            if nueva_casilla[0] > 9 or nueva_casilla[1] > 9:\n",
    "                break  \n",
    "            barco.append(nueva_casilla)\n",
    "            casilla = nueva_casilla\n",
    "\n",
    "        if len(barco) == eslora: \n",
    "            if not comprobar_colision(barco, tablero):\n",
    "                return barco\n",
    "            \n",
    "barquilla = crear_barco(6,tablerillo)\n",
    "print(barquilla)\n",
    "\n",
    "comprobasao = comprobar_colision(barquilla, tablerillo)\n",
    "print(comprobasao)"
   ]
  },
  {
   "cell_type": "code",
   "execution_count": 57,
   "metadata": {},
   "outputs": [
    {
     "name": "stdout",
     "output_type": "stream",
     "text": [
      "None\n"
     ]
    }
   ],
   "source": [
    "def crear_barco_modo_corto(tablero):\n",
    "    barcos=[]\n",
    "    for _ in range(6):\n",
    "        barco = [(random.randint(0, 9), random.randint(0, 9))]\n",
    "        while comprobar_colision(barco, tablero):\n",
    "            barco = [(random.randint(0, 9), random.randint(0, 9))]\n",
    "        barcos.append(barco)\n",
    "        colocar_flota([barco], tablero)\n",
    "    return \n",
    "\n",
    "barquitos = crear_barco_modo_corto(tablerillo)\n",
    "print(barquitos)"
   ]
  },
  {
   "cell_type": "code",
   "execution_count": 54,
   "metadata": {},
   "outputs": [
    {
     "name": "stdout",
     "output_type": "stream",
     "text": [
      "[[(0, 7), (1, 7)], [(1, 5), (2, 5)], [(2, 5), (3, 5)], [(7, 6), (7, 7), (7, 8)], [(6, 7), (6, 8), (6, 9)], [(1, 5), (2, 5), (3, 5), (4, 5)]]\n"
     ]
    }
   ],
   "source": [
    "def crear_flota(tablero):\n",
    "    flota_barcos = [\n",
    "        crear_barco(2, tablero),\n",
    "        crear_barco(2, tablero),\n",
    "        crear_barco(2, tablero),\n",
    "        crear_barco(3, tablero),\n",
    "        crear_barco(3, tablero),\n",
    "        crear_barco(4, tablero)]\n",
    "    return flota_barcos\n",
    "\n",
    "flotilla = crear_flota(tablerillo)\n",
    "print(flotilla)"
   ]
  },
  {
   "cell_type": "code",
   "execution_count": 67,
   "metadata": {},
   "outputs": [
    {
     "name": "stdout",
     "output_type": "stream",
     "text": [
      "[['_' '_' '_' '_' '_' '_' '_' 'O' '_' '_']\n",
      " ['_' 'O' '_' '_' '_' 'O' '_' 'O' '_' '_']\n",
      " ['_' '_' '_' '_' '_' 'O' '_' 'O' '_' '_']\n",
      " ['_' '_' '_' '_' '_' 'O' '_' '_' '_' '_']\n",
      " ['_' '_' 'O' '_' '_' 'O' '_' '_' '_' '_']\n",
      " ['_' '_' '_' '_' '_' '_' '_' '_' '_' '_']\n",
      " ['_' '_' '_' '_' '_' '_' '_' 'O' 'O' 'O']\n",
      " ['_' '_' '_' '_' '_' '_' 'O' 'O' 'O' '_']\n",
      " ['_' 'O' '_' '_' '_' '_' '_' '_' '_' 'O']\n",
      " ['_' '_' '_' 'O' '_' '_' '_' '_' '_' '_']]\n"
     ]
    }
   ],
   "source": [
    "def colocar_flota(flota, tablero): \n",
    "    for barco in flota:\n",
    "        for i, j in barco:\n",
    "            tablero[i][j] = 'O'  \n",
    "    return tablero\n",
    "\n",
    "def colocar_barcos_modo_corto(flota, tablero): \n",
    "    for x in flota:\n",
    "        tablero[i][j] = 'O'  \n",
    "    return tablero\n",
    "\n",
    "colocada = colocar_flota(flotilla,tablerillo)\n",
    "print(colocada)"
   ]
  },
  {
   "cell_type": "code",
   "execution_count": 68,
   "metadata": {},
   "outputs": [
    {
     "ename": "TypeError",
     "evalue": "'NoneType' object is not iterable",
     "output_type": "error",
     "traceback": [
      "\u001b[1;31m---------------------------------------------------------------------------\u001b[0m",
      "\u001b[1;31mTypeError\u001b[0m                                 Traceback (most recent call last)",
      "Cell \u001b[1;32mIn[68], line 1\u001b[0m\n\u001b[1;32m----> 1\u001b[0m colocada \u001b[38;5;241m=\u001b[39m \u001b[43mcolocar_barcos_modo_corto\u001b[49m\u001b[43m(\u001b[49m\u001b[43mbarquitos\u001b[49m\u001b[43m,\u001b[49m\u001b[43mtablerillo1\u001b[49m\u001b[43m)\u001b[49m\n\u001b[0;32m      2\u001b[0m \u001b[38;5;28mprint\u001b[39m(colocada)\n",
      "Cell \u001b[1;32mIn[67], line 8\u001b[0m, in \u001b[0;36mcolocar_barcos_modo_corto\u001b[1;34m(flota, tablero)\u001b[0m\n\u001b[0;32m      7\u001b[0m \u001b[38;5;28;01mdef\u001b[39;00m \u001b[38;5;21mcolocar_barcos_modo_corto\u001b[39m(flota, tablero): \n\u001b[1;32m----> 8\u001b[0m \u001b[43m    \u001b[49m\u001b[38;5;28;43;01mfor\u001b[39;49;00m\u001b[43m \u001b[49m\u001b[43mx\u001b[49m\u001b[43m \u001b[49m\u001b[38;5;129;43;01min\u001b[39;49;00m\u001b[43m \u001b[49m\u001b[43mflota\u001b[49m\u001b[43m:\u001b[49m\n\u001b[0;32m      9\u001b[0m \u001b[43m        \u001b[49m\u001b[43mtablero\u001b[49m\u001b[43m[\u001b[49m\u001b[43mi\u001b[49m\u001b[43m]\u001b[49m\u001b[43m[\u001b[49m\u001b[43mj\u001b[49m\u001b[43m]\u001b[49m\u001b[43m \u001b[49m\u001b[38;5;241;43m=\u001b[39;49m\u001b[43m \u001b[49m\u001b[38;5;124;43m'\u001b[39;49m\u001b[38;5;124;43mO\u001b[39;49m\u001b[38;5;124;43m'\u001b[39;49m  \n\u001b[0;32m     10\u001b[0m     \u001b[38;5;28;01mreturn\u001b[39;00m tablero\n",
      "\u001b[1;31mTypeError\u001b[0m: 'NoneType' object is not iterable"
     ]
    }
   ],
   "source": [
    "colocada = colocar_barcos_modo_corto(barquitos,tablerillo1)\n",
    "print(colocada)"
   ]
  },
  {
   "cell_type": "code",
   "execution_count": null,
   "metadata": {},
   "outputs": [],
   "source": [
    "def generar_nuevo_tablero():\n",
    "    tablero_usuario = crear_tablero(10)\n",
    "    flota_usuario = crear_flota(tablero_usuario)\n",
    "    tablero_final = colocar_flota(flota_usuario, tablero_usuario)\n",
    "    return tablero_final"
   ]
  },
  {
   "cell_type": "code",
   "execution_count": null,
   "metadata": {},
   "outputs": [],
   "source": [
    "def sistema_de_turnos(tablero_final, tablero_maquina):\n",
    "    print(\"Que comience el juego\")\n",
    "    puntos_usuario = 0\n",
    "    puntos_maquina = 0\n",
    "    if modo == \"corto\":\n",
    "        limite_puntos = 2\n",
    "    else:\n",
    "        limite_puntos = len(tablero_final[tablero_final == \"O\"])\n",
    "    \n",
    "    while puntos_usuario < limite_puntos and puntos_maquina < limite_puntos:\n",
    "        print(\"\\n--- Tu turno ---\")    \n",
    "        puntos_usuario += turno_usuario(tablero_maquina)\n",
    "        \n",
    "        if puntos_usuario > limite_puntos:   \n",
    "            print(\"Has ganado makena.\")\n",
    "            break\n",
    "        time.sleep(1)\n",
    "\n",
    "        print(\"\\n--- Turno de la Máquina ---\")   \n",
    "        puntos_maquina += turno_maquina(tablero_final)\n",
    "        print(tablero_final)\n",
    "\n",
    "        if puntos_maquina >= limite_puntos:      \n",
    "            print(\"La máquina te ha ganado crack\")\n",
    "            break\n"
   ]
  },
  {
   "cell_type": "code",
   "execution_count": null,
   "metadata": {},
   "outputs": [],
   "source": [
    "def verificar_victoria(tablero_oponente,modo):\n",
    "    if modo == \"Corto\":\n",
    "        barcos_restantes = len(np.where(tablero_oponente == \"O\")[0])\n",
    "        barcos_hundidos = 6 - barcos_restantes\n",
    "        return barcos_hundidos >= 2 #Gana si almenos se hunden dos barcos\n",
    "    else:\n",
    "        return not np.any(tablero_oponente == \"O\") #Gana si no queda ningun barco"
   ]
  },
  {
   "cell_type": "code",
   "execution_count": null,
   "metadata": {},
   "outputs": [],
   "source": [
    "def turno_usuario(tablero):\n",
    "    while True:  \n",
    "        try:                                                                 #Mientras no se pierda el turno\n",
    "            fila = int(input(\"Introduce la fila (1-9) a la que quieres disparar: \"))\n",
    "            columna = int(input(\"Introduce la columna (1-9) a la que quieres disparar: \"))\n",
    "            if not (0 <= fila <= 9) or not columna (0 <= columna <= 9):\n",
    "                print(\"Cordenadas fuera de rango, intentelo de nuevo\")\n",
    "                continue\n",
    "        except ValueError:\n",
    "            print(\"Intruce numero entre el 1 y 9.\")\n",
    "            continue\n",
    "\n",
    "        resultado = disparar((fila-1, columna-1), tablero)             #llamada ala función disparar\n",
    "        print(f\"Disparaste a {(fila, columna)}:\\n {resultado}\")     #Ubicación del tiro por pantalla\n",
    "        \n",
    "        if resultado == \"Agua\":                                     #Posibilidades\n",
    "            print(\"Fallaste. Fin de tu turno.\")\n",
    "            return 0\n",
    "        elif resultado == \"Tocado\":\n",
    "            print(\"Has acertado sigue disparando.\")\n",
    "            if barco_hundido(tablero):\n",
    "                print(\"Barco Hundido\")\n",
    "                return 1\n",
    "            "
   ]
  },
  {
   "cell_type": "code",
   "execution_count": null,
   "metadata": {},
   "outputs": [],
   "source": [
    "def turno_maquina(tablero):\n",
    "    while True:                      #Mientras acierte seguirá disparando de forma random\n",
    "        fila = random.randint(0, 9)\n",
    "        columna = random.randint(0, 9)\n",
    "        \n",
    "        resultado = disparar((fila, columna), tablero)\n",
    "        print(f\"La máquina disparó a {(fila, columna)}: \\n {resultado}\")\n",
    "        \n",
    "        if resultado == \"Agua\":\n",
    "            print(\"La máquina falló. Fin de su turno.\")\n",
    "            return 0  \n",
    "\n",
    "        elif resultado == \"Tocado\":\n",
    "            print(\"La máquina acertó. Sigue disparando.\")\n",
    "            return 1"
   ]
  },
  {
   "cell_type": "code",
   "execution_count": null,
   "metadata": {},
   "outputs": [],
   "source": [
    "def disparar(casilla, tablero):\n",
    "    fila, columna = casilla\n",
    "    if tablero[fila, columna] == \"O\":              #la O es barco, la X tocado y la A agua\n",
    "        print(\"Tocado\")\n",
    "        tablero[fila, columna] = \"X\"\n",
    "        return \"Tocado\"\n",
    "    elif tablero[fila,columna] == '_': \n",
    "        print(\"Agua\")\n",
    "        tablero[fila,columna] = \"A\"\n",
    "        return \"Agua\"\n",
    "    else:\n",
    "        print(\"Casilla ya disparada.\")\n",
    "        return \"Casilla repetida\""
   ]
  },
  {
   "cell_type": "code",
   "execution_count": null,
   "metadata": {},
   "outputs": [],
   "source": [
    "def barco_hundido(tablero,fila,columna):\n",
    "    return not np.any(tablero == \"O\")"
   ]
  },
  {
   "cell_type": "code",
   "execution_count": null,
   "metadata": {},
   "outputs": [],
   "source": [
    "def jugar():\n",
    "    print(f\"Welcome to Battleship\")\n",
    "    time.sleep(1)\n",
    "\n",
    "    dibujar_batalla_barcos()\n",
    "\n",
    "    time.sleep(2)\n",
    "\n",
    "    modo = input(\"Hay dos modos de juego: Corto( Cada jugador tendra 6 barcos de eslora 1 y quién elimine\\\n",
    "                 \\ antes dos barcos habrá ganado. Largo: 6 barcos cada uno y quien elimine los del\\\n",
    "                  contrincante antes habrá ganado.  Introduzca: (Corto/Largo)) \").lower()\n",
    "\n",
    "    print(f\"Creating your new the game track...\")\n",
    "\n",
    "    time.sleep(1)\n",
    "    tablero_usuario = crear_tablero(10)\n",
    "    tablero_maquina = crear_tablero(10)\n",
    "\n",
    "    \n",
    "    if modo == \"corto\":\n",
    "        flota_usuario = crear_barcos_modo_corto(tablero_usuario)\n",
    "        flota_maquina = crear_flota(tablero_maquina)\n",
    "    else:\n",
    "        flota_usuario = crear_flota(tablero_usuario)\n",
    "        flota_maquina = crear_flota(tablero_maquina)\n",
    "        #print(flota_usuario) if you want to see yours boats before placing in the game track\n",
    "\n",
    "    time.sleep(0.5)\n",
    "    print(f\"Your fleet will be made up of 6 ships and they will be placed randomly on the game track.\")\n",
    "\n",
    "\n",
    "    tablero_final = colocar_flota(flota_usuario,tablero_usuario)\n",
    "    tablero_maquina_final = colocar_flota(flota_maquina,tablero_maquina)\n",
    "    print(f\"\\n               Here you are\")\n",
    "    print(tablero_final)\n",
    "\n",
    "    while True: \n",
    "        respuesta = input(\"Te gusta tu tablero o generamos otro?(True/False)\")    \n",
    "        if respuesta == \"True\":\n",
    "            print(f\"Then you will play with this, GOOD LUCK!\")\n",
    "            break\n",
    "        else:\n",
    "            print(\"Generando nuevo tablero\")\n",
    "            time.sleep(1)\n",
    "            tablero_final = generar_nuevo_tablero()\n",
    "            print(tablero_final)\n",
    "        \n",
    "    sistema_de_turnos(tablero_final, tablero_maquina)\n"
   ]
  },
  {
   "cell_type": "code",
   "execution_count": null,
   "metadata": {},
   "outputs": [],
   "source": [
    "def hundir_la_flota():\n",
    "    while True:\n",
    "        jugar()\n",
    "        jugar_nuevamente = input(\"¿Quieres jugar de nuevo? (True/False): \").lower()\n",
    "        if jugar_nuevamente != \"True\":\n",
    "            print(f\"Saliendo del juego, que tenga buen día no dude en volver a jugar\")\n",
    "            print(f\"Con un pull de git compruebe las nuevas actualizaciones\")\n",
    "            break"
   ]
  },
  {
   "cell_type": "code",
   "execution_count": null,
   "metadata": {},
   "outputs": [],
   "source": [
    "hundir_la_flota()"
   ]
  }
 ],
 "metadata": {
  "kernelspec": {
   "display_name": "Python 3",
   "language": "python",
   "name": "python3"
  },
  "language_info": {
   "codemirror_mode": {
    "name": "ipython",
    "version": 3
   },
   "file_extension": ".py",
   "mimetype": "text/x-python",
   "name": "python",
   "nbconvert_exporter": "python",
   "pygments_lexer": "ipython3",
   "version": "3.12.5"
  }
 },
 "nbformat": 4,
 "nbformat_minor": 2
}
