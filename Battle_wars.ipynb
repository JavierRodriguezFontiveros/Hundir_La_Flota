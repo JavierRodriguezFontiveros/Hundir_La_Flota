{
 "cells": [
  {
   "cell_type": "code",
   "execution_count": 25,
   "metadata": {},
   "outputs": [],
   "source": [
    "import numpy as np\n",
    "import random\n",
    "import time\n",
    "\n",
    "#Importando librerias de tiempo, pandas y random"
   ]
  },
  {
   "cell_type": "code",
   "execution_count": 3,
   "metadata": {},
   "outputs": [],
   "source": [
    "def crear_tablero(tamaño):\n",
    "    tablero = np.full((tamaño,tamaño), \"_\")\n",
    "    return tablero\n",
    "\n",
    "#Creando el tablero con pandas"
   ]
  },
  {
   "cell_type": "code",
   "execution_count": 4,
   "metadata": {},
   "outputs": [],
   "source": [
    "def crear_barco(eslora):\n",
    "    casilla_0 = (random.randint(0,9), random.randint(0,9))  #2 posiciones aleatorias\n",
    "    orientacion = random.choice([\"Vertical\", \"Horizontal\"])  #posicion aleatoria\n",
    "\n",
    "    barco = [casilla_0] #Los barcos seran listas\n",
    "    casilla = casilla_0\n",
    "\n",
    "    while len(barco) < eslora:               #Código para hacerlo crecer en la longitud y posicion que le toque\n",
    "        if orientacion == \"Vertical\":\n",
    "            casilla = (casilla[0]+1, casilla[1])\n",
    "            barco.append(casilla) # Vertical          #Suma valor al barco\n",
    "        else:\n",
    "            casilla = (casilla[0], casilla[1]+1)\n",
    "            barco.append(casilla) # Horizontal\n",
    "\n",
    "    return barco                             #cada barco será una lista de tuplas"
   ]
  },
  {
   "cell_type": "code",
   "execution_count": 5,
   "metadata": {},
   "outputs": [],
   "source": [
    "def colocar_flota(flota,tablero):\n",
    "\n",
    "#def colocar_barco_tablero(barco,tablero):\n",
    "    #for casilla in barco:\n",
    "        #tablero[casilla] = \"O\"\n",
    "    #print(tablero)"
   ]
  },
  {
   "cell_type": "code",
   "execution_count": 6,
   "metadata": {},
   "outputs": [],
   "source": [
    "def disparar(casilla, tablero):\n",
    "    if tablero[casilla] == \"O\":              #la O es barco, la X tocado y la A agua\n",
    "        print(\"Tocado\")\n",
    "        tablero[casilla] = \"X\"\n",
    "    elif tablero[casilla] == '_': \n",
    "        print(\"Agua\")\n",
    "        tablero[casilla] = \"A\"\n",
    "    else:\n",
    "        print(\"Casilla repetida\")\n",
    "    return tablero"
   ]
  },
  {
   "cell_type": "code",
   "execution_count": 23,
   "metadata": {},
   "outputs": [],
   "source": [
    "def crear_flota(tablero):\n",
    "    flota_barcos =[crear_barco(2),crear_barco(2),crear_barco(2), crear_barco(3), crear_barco(3),crear_barco(4)]\n",
    "    for barcos in flota_barcos:\n",
    "        for i, j in barcos:\n",
    "            if tablero[i,j] == \"O\":\n",
    "                crear_flota(tablero)\n",
    "            else:\n",
    "                return flota_barcos\n",
    "\n",
    "#Crear una lista de barcos, de uno en uno ira comprobando que donde estén colocados no haya otro barco,\n",
    "#Tenemos una recursividad"
   ]
  },
  {
   "cell_type": "code",
   "execution_count": 24,
   "metadata": {},
   "outputs": [],
   "source": [
    "def no_salir_tablero(flota,tablero)\n",
    "#No se salgan del tablero"
   ]
  },
  {
   "cell_type": "code",
   "execution_count": 8,
   "metadata": {},
   "outputs": [],
   "source": [
    "def turno_usuario(tablero):\n",
    "    while True:                                                                   #Mientras no se pierda el turno\n",
    "        fila = int(input(\"Introduce la fila (0-9) a la que quieres disparar: \"))\n",
    "        columna = int(input(\"Introduce la columna (0-9) a la que quieres disparar: \"))\n",
    "\n",
    "        resultado = disparar((fila, columna), tablero)             #llamada ala función disparar\n",
    "        print(f\"Disparaste a {(fila, columna)}:\\n {resultado}\")     #Ubicación del tiro por pantalla\n",
    "        \n",
    "        if resultado == \"Agua\":                                     #Posibilidades\n",
    "            print(\"Fallaste. Fin de tu turno.\")\n",
    "            break\n",
    "        elif resultado == \"Tocado\":\n",
    "            print(\"Has acertado sigue disparando.\")\n",
    "            continue\n",
    "        else:\n",
    "            print(\"Casilla repetida,perdiste el turno\")\n",
    "            break"
   ]
  },
  {
   "cell_type": "code",
   "execution_count": 10,
   "metadata": {},
   "outputs": [],
   "source": [
    "def turno_maquina(tablero):\n",
    "    while True:                      #Mientras acierte seguirá disparando de forma random\n",
    "        fila = random.randint(0, 9)\n",
    "        columna = random.randint(0, 9)\n",
    "        \n",
    "        resultado = disparar((fila, columna), tablero)\n",
    "        print(f\"La máquina disparó a {(fila, columna)}: \\n {resultado}\")\n",
    "        \n",
    "        if resultado == \"Agua\":\n",
    "            print(\"La máquina falló. Fin de su turno.\")\n",
    "            break  \n",
    "\n",
    "        elif resultado == \"Tocado\":\n",
    "            print(\"La máquina acertó. Sigue disparando.\")\n",
    "            continue \n",
    "        \n",
    "        else:\n",
    "            print(\"Casilla repetida, pierde el turno\")\n",
    "            break\n"
   ]
  },
  {
   "cell_type": "code",
   "execution_count": 11,
   "metadata": {},
   "outputs": [],
   "source": [
    "def verificar_victoria(tablero_oponente):\n",
    "    return not np.any(tablero_oponente == \"O\")\n",
    "\n",
    "#Si quedan alguna \"O\" nos dá True"
   ]
  },
  {
   "cell_type": "code",
   "execution_count": 13,
   "metadata": {},
   "outputs": [],
   "source": [
    "def sistema_de_turnos(tablero_usuario, tablero_maquina):\n",
    "    print(\"Que comience el juego\")\n",
    "    \n",
    "    while verificar_victoria(tablero_maquina) and verificar_victoria(tablero_usuario): #Mientras ninguno haya ganado..\n",
    "        print(\"\\n--- Tu turno ---\")    \n",
    "        turno_usuario(tablero_maquina)\n",
    "        \n",
    "        if not verificar_victoria(tablero_maquina):   #Verifica si gana\n",
    "            print(\"Has ganado makena.\")\n",
    "            break\n",
    "        \n",
    "        print(\"\\n--- Turno de la Máquina ---\")   \n",
    "        turno_maquina(tablero_usuario)\n",
    "\n",
    "        if not verificar_victoria(tablero_usuario):      \n",
    "            print(\"La máquina te ha ganado crack\")\n",
    "            break"
   ]
  },
  {
   "cell_type": "code",
   "execution_count": 21,
   "metadata": {},
   "outputs": [
    {
     "name": "stdout",
     "output_type": "stream",
     "text": [
      "Bienvenido a Hundir la flota\n",
      "Creando tablero\n",
      "[['_' '_' '_' '_' '_' '_' '_' '_' '_' '_']\n",
      " ['_' '_' '_' '_' '_' '_' '_' '_' '_' '_']\n",
      " ['_' '_' '_' '_' '_' '_' '_' '_' '_' '_']\n",
      " ['_' '_' '_' '_' '_' '_' '_' '_' '_' '_']\n",
      " ['_' '_' '_' '_' '_' '_' '_' '_' '_' '_']\n",
      " ['_' '_' '_' '_' '_' '_' '_' '_' '_' '_']\n",
      " ['_' '_' '_' '_' '_' '_' '_' '_' '_' '_']\n",
      " ['_' '_' '_' '_' '_' '_' '_' '_' '_' '_']\n",
      " ['_' '_' '_' '_' '_' '_' '_' '_' '_' '_']\n",
      " ['_' '_' '_' '_' '_' '_' '_' '_' '_' '_']]\n",
      "Se va crear tu flota y la de la máquina aleatoriamente con 6 barcos\n",
      "[[(5, 5), (6, 5)], [(2, 0), (3, 0)], [(6, 6), (7, 6)], [(2, 5), (2, 6), (2, 7)], [(2, 1), (3, 1), (4, 1)], [(9, 5), (10, 5), (11, 5), (12, 5)]]\n"
     ]
    },
    {
     "ename": "NameError",
     "evalue": "name 'colocar_flota' is not defined",
     "output_type": "error",
     "traceback": [
      "\u001b[1;31m---------------------------------------------------------------------------\u001b[0m",
      "\u001b[1;31mNameError\u001b[0m                                 Traceback (most recent call last)",
      "Cell \u001b[1;32mIn[21], line 32\u001b[0m\n\u001b[0;32m     29\u001b[0m             \u001b[38;5;28mprint\u001b[39m(\u001b[38;5;124m\"\u001b[39m\u001b[38;5;124m # luego\u001b[39m\u001b[38;5;124m\"\u001b[39m)\n\u001b[0;32m     30\u001b[0m             \u001b[38;5;28;01mbreak\u001b[39;00m\n\u001b[1;32m---> 32\u001b[0m \u001b[43mjugar\u001b[49m\u001b[43m(\u001b[49m\u001b[43m)\u001b[49m\n",
      "Cell \u001b[1;32mIn[21], line 23\u001b[0m, in \u001b[0;36mjugar\u001b[1;34m()\u001b[0m\n\u001b[0;32m     19\u001b[0m time\u001b[38;5;241m.\u001b[39msleep(\u001b[38;5;241m1\u001b[39m)\n\u001b[0;32m     21\u001b[0m \u001b[38;5;28mprint\u001b[39m(tablero_usuario)\n\u001b[1;32m---> 23\u001b[0m tablero_usuario \u001b[38;5;241m=\u001b[39m \u001b[43mcolocar_flota\u001b[49m(flota_usuario,tablero_usuario)\n\u001b[0;32m     25\u001b[0m sistema_de_turnos(tablero_usuario, tablero_maquina)\n\u001b[0;32m     27\u001b[0m jugar_nuevamente \u001b[38;5;241m=\u001b[39m \u001b[38;5;28minput\u001b[39m(\u001b[38;5;124m\"\u001b[39m\u001b[38;5;124m¿Quieres jugar de nuevo? (True/False): \u001b[39m\u001b[38;5;124m\"\u001b[39m)\n",
      "\u001b[1;31mNameError\u001b[0m: name 'colocar_flota' is not defined"
     ]
    }
   ],
   "source": [
    "#Completo\n",
    "\n",
    "def jugar():\n",
    "    while True:\n",
    "        \n",
    "        print(f\"Bienvenido a Hundir la flota\")\n",
    "        print(f\"Creando tablero\")\n",
    "\n",
    "        time.sleep(1)\n",
    "\n",
    "        tablero_usuario = crear_tablero(10)\n",
    "        tablero_maquina = crear_tablero(10)\n",
    "        print(tablero_usuario)\n",
    "\n",
    "        time.sleep(1)\n",
    "        print(f\"Se va crear tu flota y la de la máquina aleatoriamente con 6 barcos\")\n",
    "        tablero_usuario = crear_flota(tablero_usuario)\n",
    "        tablero_maquina = crear_flota(tablero_maquina)\n",
    "        time.sleep(1)\n",
    "        \n",
    "        print(tablero_usuario)\n",
    "\n",
    "        tablero_usuario = colocar_flota(flota_usuario,tablero_usuario)\n",
    "        tablero_usario = colocar_flota(flota_maquina,tablero_maquina)\n",
    "\n",
    "        time.sleep(1)\n",
    "        print(\"Este es tu tablero: \\n {tablero_usario}\")\n",
    "        print(\"Buena Suerte!\")\n",
    "\n",
    "        time.sleep(0.5)\n",
    "\n",
    "        sistema_de_turnos(tablero_usuario, tablero_maquina)\n",
    "            \n",
    "        jugar_nuevamente = input(\"¿Quieres jugar de nuevo? (True/False): \")\n",
    "        if jugar_nuevamente != \"True\":\n",
    "            print(\" # luego\")\n",
    "            break\n",
    "\n",
    "jugar()"
   ]
  },
  {
   "cell_type": "code",
   "execution_count": null,
   "metadata": {},
   "outputs": [],
   "source": []
  }
 ],
 "metadata": {
  "kernelspec": {
   "display_name": "Python 3",
   "language": "python",
   "name": "python3"
  },
  "language_info": {
   "codemirror_mode": {
    "name": "ipython",
    "version": 3
   },
   "file_extension": ".py",
   "mimetype": "text/x-python",
   "name": "python",
   "nbconvert_exporter": "python",
   "pygments_lexer": "ipython3",
   "version": "3.12.5"
  }
 },
 "nbformat": 4,
 "nbformat_minor": 2
}
