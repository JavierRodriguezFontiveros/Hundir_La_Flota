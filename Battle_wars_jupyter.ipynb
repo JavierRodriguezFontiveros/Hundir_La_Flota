{
 "cells": [
  {
   "cell_type": "code",
   "execution_count": 2,
   "metadata": {},
   "outputs": [],
   "source": [
    "import numpy as np\n",
    "import random\n",
    "import time\n",
    "\n",
    "#Importando librerias de tiempo, pandas y random"
   ]
  },
  {
   "cell_type": "code",
   "execution_count": 3,
   "metadata": {},
   "outputs": [],
   "source": [
    "def crear_tablero(tamaño):\n",
    "    tablero = np.full((tamaño,tamaño), \"_\")\n",
    "    return tablero\n",
    "tablero_copy = crear_tablero(10)\n",
    "\n",
    "#Creando el tablero con pandas"
   ]
  },
  {
   "cell_type": "code",
   "execution_count": 55,
   "metadata": {},
   "outputs": [
    {
     "data": {
      "text/plain": [
       "[(4, 1)]"
      ]
     },
     "execution_count": 55,
     "metadata": {},
     "output_type": "execute_result"
    }
   ],
   "source": [
    "#import random\n",
    "def crear_barco(eslora):\n",
    "    casilla_0 = (random.randint(0,9), random.randint(0,9))  \n",
    "    orientacion = random.choice([\"Vertical\", \"Horizontal\"])  \n",
    "\n",
    "    barco = [casilla_0] \n",
    "    casilla = casilla_0\n",
    "\n",
    "    while len(barco) < eslora:               \n",
    "        if orientacion == \"Vertical\":\n",
    "            casilla = (casilla[0]+1, casilla[1])\n",
    "            barco.append(casilla) \n",
    "        else:\n",
    "            casilla = (casilla[0], casilla[1]+1)\n",
    "            barco.append(casilla) \n",
    "    return barco  \n",
    "\n",
    "crear_barco(1) \n",
    "#Esta funcion te crea un barco ya sea vertical o horizontal de la longitud que tu quieras y funciones                    \n"
   ]
  },
  {
   "cell_type": "code",
   "execution_count": 58,
   "metadata": {},
   "outputs": [
    {
     "ename": "TypeError",
     "evalue": "'int' object is not subscriptable",
     "output_type": "error",
     "traceback": [
      "\u001b[1;31m---------------------------------------------------------------------------\u001b[0m",
      "\u001b[1;31mTypeError\u001b[0m                                 Traceback (most recent call last)",
      "Cell \u001b[1;32mIn[58], line 10\u001b[0m\n\u001b[0;32m      7\u001b[0m             \u001b[38;5;28;01melse\u001b[39;00m:\n\u001b[0;32m      8\u001b[0m                 \u001b[38;5;28;01mreturn\u001b[39;00m flota_barcos\n\u001b[1;32m---> 10\u001b[0m \u001b[43mcrear_flota\u001b[49m\u001b[43m(\u001b[49m\u001b[38;5;241;43m2\u001b[39;49m\u001b[43m)\u001b[49m\n",
      "Cell \u001b[1;32mIn[58], line 5\u001b[0m, in \u001b[0;36mcrear_flota\u001b[1;34m(tablero)\u001b[0m\n\u001b[0;32m      3\u001b[0m \u001b[38;5;28;01mfor\u001b[39;00m barcos \u001b[38;5;129;01min\u001b[39;00m flota_barcos:\n\u001b[0;32m      4\u001b[0m     \u001b[38;5;28;01mfor\u001b[39;00m i, j \u001b[38;5;129;01min\u001b[39;00m barcos:\n\u001b[1;32m----> 5\u001b[0m         \u001b[38;5;28;01mif\u001b[39;00m \u001b[43mtablero\u001b[49m\u001b[43m[\u001b[49m\u001b[43mi\u001b[49m\u001b[43m,\u001b[49m\u001b[43mj\u001b[49m\u001b[43m]\u001b[49m \u001b[38;5;241m==\u001b[39m \u001b[38;5;124m\"\u001b[39m\u001b[38;5;124mO\u001b[39m\u001b[38;5;124m\"\u001b[39m:\n\u001b[0;32m      6\u001b[0m             crear_flota(tablero)\n\u001b[0;32m      7\u001b[0m         \u001b[38;5;28;01melse\u001b[39;00m:\n",
      "\u001b[1;31mTypeError\u001b[0m: 'int' object is not subscriptable"
     ]
    }
   ],
   "source": [
    "def crear_flota(tablero):\n",
    "    flota_barcos =[crear_barco(2),crear_barco(2),crear_barco(2), crear_barco(3), crear_barco(3),crear_barco(4)]\n",
    "    for barcos in flota_barcos:\n",
    "        for i, j in barcos:\n",
    "            if tablero[i,j] == \"O\":\n",
    "                crear_flota(tablero)\n",
    "            else:\n",
    "                return flota_barcos\n",
    "            \n",
    "crear_flota(2)\n",
    "\n",
    "#crea una flota de barcos que no se superpongan en el tablero"
   ]
  },
  {
   "cell_type": "code",
   "execution_count": 7,
   "metadata": {},
   "outputs": [],
   "source": [
    "def colocar_flota(flota,tablero):\n",
    "    for barco in flota:\n",
    "        tablero = np.array(barco)    #\n",
    "    return tablero"
   ]
  },
  {
   "cell_type": "code",
   "execution_count": 5,
   "metadata": {},
   "outputs": [],
   "source": [
    "def disparar(casilla, tablero):\n",
    "    if tablero[casilla] == \"O\":              #la O es barco, la X tocado y la A agua\n",
    "        print(\"Tocado\")\n",
    "        tablero[casilla] = \"X\"\n",
    "    elif tablero[casilla] == '_': \n",
    "        print(\"Agua\")\n",
    "        tablero[casilla] = \"A\"\n",
    "    else:\n",
    "        print(\"Casilla repetida\")\n",
    "    return tablero"
   ]
  },
  {
   "cell_type": "code",
   "execution_count": 8,
   "metadata": {},
   "outputs": [],
   "source": [
    "def turno_usuario(tablero):\n",
    "    while True:                                                                   #Mientras no se pierda el turno\n",
    "        fila = int(input(\"Introduce la fila (0-9) a la que quieres disparar: \"))\n",
    "        columna = int(input(\"Introduce la columna (0-9) a la que quieres disparar: \"))\n",
    "\n",
    "        resultado = disparar((fila, columna), tablero)             #llamada ala función disparar\n",
    "        print(f\"Disparaste a {(fila, columna)}:\\n {resultado}\")     #Ubicación del tiro por pantalla\n",
    "        \n",
    "        if resultado == \"Agua\":                                     #Posibilidades\n",
    "            print(\"Fallaste. Fin de tu turno.\")\n",
    "            break\n",
    "        elif resultado == \"Tocado\":\n",
    "            print(\"Has acertado sigue disparando.\")\n",
    "            continue\n",
    "        else:\n",
    "            print(\"Casilla repetida,perdiste el turno\")\n",
    "            break"
   ]
  },
  {
   "cell_type": "code",
   "execution_count": 9,
   "metadata": {},
   "outputs": [],
   "source": [
    "def turno_maquina(tablero):\n",
    "    while True:                      #Mientras acierte seguirá disparando de forma random\n",
    "        fila = random.randint(0, 9)\n",
    "        columna = random.randint(0, 9)\n",
    "        \n",
    "        resultado = disparar((fila, columna), tablero)\n",
    "        print(f\"La máquina disparó a {(fila, columna)}: \\n {resultado}\")\n",
    "        \n",
    "        if resultado == \"Agua\":\n",
    "            print(\"La máquina falló. Fin de su turno.\")\n",
    "            break  \n",
    "\n",
    "        elif resultado == \"Tocado\":\n",
    "            print(\"La máquina acertó. Sigue disparando.\")\n",
    "            continue \n",
    "        \n",
    "        else:\n",
    "            print(\"Casilla repetida, pierde el turno\")\n",
    "            break\n"
   ]
  },
  {
   "cell_type": "code",
   "execution_count": 10,
   "metadata": {},
   "outputs": [],
   "source": [
    "def verificar_victoria(tablero_oponente):\n",
    "    return not np.any(tablero_oponente == \"O\")\n",
    "\n",
    "#Si quedan alguna \"O\" nos dá True"
   ]
  },
  {
   "cell_type": "code",
   "execution_count": 11,
   "metadata": {},
   "outputs": [],
   "source": [
    "def sistema_de_turnos(tablero_usuario, tablero_maquina):\n",
    "    print(\"Que comience el juego\")\n",
    "    \n",
    "    while verificar_victoria(tablero_maquina) and verificar_victoria(tablero_usuario): #Mientras ninguno haya ganado..\n",
    "        print(\"\\n--- Tu turno ---\")    \n",
    "        turno_usuario(tablero_maquina)\n",
    "        \n",
    "        if not verificar_victoria(tablero_maquina):   #Verifica si gana\n",
    "            print(\"Has ganado makena.\")\n",
    "            break\n",
    "        \n",
    "        print(\"\\n--- Turno de la Máquina ---\")   \n",
    "        turno_maquina(tablero_usuario)\n",
    "\n",
    "        if not verificar_victoria(tablero_usuario):      \n",
    "            print(\"La máquina te ha ganado crack\")\n",
    "            break"
   ]
  },
  {
   "cell_type": "code",
   "execution_count": 12,
   "metadata": {},
   "outputs": [
    {
     "name": "stdout",
     "output_type": "stream",
     "text": [
      "Bienvenido a Hundir la flota\n",
      "Creando tablero\n",
      "[['_' '_' '_' '_' '_' '_' '_' '_' '_' '_']\n",
      " ['_' '_' '_' '_' '_' '_' '_' '_' '_' '_']\n",
      " ['_' '_' '_' '_' '_' '_' '_' '_' '_' '_']\n",
      " ['_' '_' '_' '_' '_' '_' '_' '_' '_' '_']\n",
      " ['_' '_' '_' '_' '_' '_' '_' '_' '_' '_']\n",
      " ['_' '_' '_' '_' '_' '_' '_' '_' '_' '_']\n",
      " ['_' '_' '_' '_' '_' '_' '_' '_' '_' '_']\n",
      " ['_' '_' '_' '_' '_' '_' '_' '_' '_' '_']\n",
      " ['_' '_' '_' '_' '_' '_' '_' '_' '_' '_']\n",
      " ['_' '_' '_' '_' '_' '_' '_' '_' '_' '_']]\n",
      "Se va crear tu flota y la de la máquina aleatoriamente con 6 barcos\n",
      "[['_' '_' '_' '_' '_' '_' '_' '_' '_' '_']\n",
      " ['_' '_' '_' '_' '_' '_' '_' '_' '_' '_']\n",
      " ['_' '_' '_' '_' '_' '_' '_' '_' '_' '_']\n",
      " ['_' '_' '_' '_' '_' '_' '_' '_' '_' '_']\n",
      " ['_' '_' '_' '_' '_' '_' '_' '_' '_' '_']\n",
      " ['_' '_' '_' '_' '_' '_' '_' '_' '_' '_']\n",
      " ['_' '_' '_' '_' '_' '_' '_' '_' '_' '_']\n",
      " ['_' '_' '_' '_' '_' '_' '_' '_' '_' '_']\n",
      " ['_' '_' '_' '_' '_' '_' '_' '_' '_' '_']\n",
      " ['_' '_' '_' '_' '_' '_' '_' '_' '_' '_']]\n",
      "Creando tu flota de barcos\n",
      "Este es tu tablero: \n",
      " {tablero_usario}\n",
      "Buena Suerte!\n",
      "Que comience el juego\n",
      "\n",
      "--- Tu turno ---\n"
     ]
    },
    {
     "ename": "ValueError",
     "evalue": "invalid literal for int() with base 10: ''",
     "output_type": "error",
     "traceback": [
      "\u001b[1;31m---------------------------------------------------------------------------\u001b[0m",
      "\u001b[1;31mValueError\u001b[0m                                Traceback (most recent call last)",
      "Cell \u001b[1;32mIn[12], line 41\u001b[0m\n\u001b[0;32m     38\u001b[0m             \u001b[38;5;28mprint\u001b[39m(\u001b[38;5;124m\"\u001b[39m\u001b[38;5;124m # luego\u001b[39m\u001b[38;5;124m\"\u001b[39m)\n\u001b[0;32m     39\u001b[0m             \u001b[38;5;28;01mbreak\u001b[39;00m\n\u001b[1;32m---> 41\u001b[0m \u001b[43mjugar\u001b[49m\u001b[43m(\u001b[49m\u001b[43m)\u001b[49m\n",
      "Cell \u001b[1;32mIn[12], line 34\u001b[0m, in \u001b[0;36mjugar\u001b[1;34m()\u001b[0m\n\u001b[0;32m     30\u001b[0m \u001b[38;5;28mprint\u001b[39m(\u001b[38;5;124m\"\u001b[39m\u001b[38;5;124mBuena Suerte!\u001b[39m\u001b[38;5;124m\"\u001b[39m)\n\u001b[0;32m     32\u001b[0m time\u001b[38;5;241m.\u001b[39msleep(\u001b[38;5;241m0.5\u001b[39m)\n\u001b[1;32m---> 34\u001b[0m \u001b[43msistema_de_turnos\u001b[49m\u001b[43m(\u001b[49m\u001b[43mtablero_usuario\u001b[49m\u001b[43m,\u001b[49m\u001b[43m \u001b[49m\u001b[43mtablero_maquina\u001b[49m\u001b[43m)\u001b[49m\n\u001b[0;32m     36\u001b[0m jugar_nuevamente \u001b[38;5;241m=\u001b[39m \u001b[38;5;28minput\u001b[39m(\u001b[38;5;124m\"\u001b[39m\u001b[38;5;124m¿Quieres jugar de nuevo? (True/False): \u001b[39m\u001b[38;5;124m\"\u001b[39m)\n\u001b[0;32m     37\u001b[0m \u001b[38;5;28;01mif\u001b[39;00m jugar_nuevamente \u001b[38;5;241m!=\u001b[39m \u001b[38;5;124m\"\u001b[39m\u001b[38;5;124mTrue\u001b[39m\u001b[38;5;124m\"\u001b[39m:\n",
      "Cell \u001b[1;32mIn[11], line 6\u001b[0m, in \u001b[0;36msistema_de_turnos\u001b[1;34m(tablero_usuario, tablero_maquina)\u001b[0m\n\u001b[0;32m      4\u001b[0m \u001b[38;5;28;01mwhile\u001b[39;00m verificar_victoria(tablero_maquina) \u001b[38;5;129;01mand\u001b[39;00m verificar_victoria(tablero_usuario): \u001b[38;5;66;03m#Mientras ninguno haya ganado..\u001b[39;00m\n\u001b[0;32m      5\u001b[0m     \u001b[38;5;28mprint\u001b[39m(\u001b[38;5;124m\"\u001b[39m\u001b[38;5;130;01m\\n\u001b[39;00m\u001b[38;5;124m--- Tu turno ---\u001b[39m\u001b[38;5;124m\"\u001b[39m)    \n\u001b[1;32m----> 6\u001b[0m     \u001b[43mturno_usuario\u001b[49m\u001b[43m(\u001b[49m\u001b[43mtablero_maquina\u001b[49m\u001b[43m)\u001b[49m\n\u001b[0;32m      8\u001b[0m     \u001b[38;5;28;01mif\u001b[39;00m \u001b[38;5;129;01mnot\u001b[39;00m verificar_victoria(tablero_maquina):   \u001b[38;5;66;03m#Verifica si gana\u001b[39;00m\n\u001b[0;32m      9\u001b[0m         \u001b[38;5;28mprint\u001b[39m(\u001b[38;5;124m\"\u001b[39m\u001b[38;5;124mHas ganado makena.\u001b[39m\u001b[38;5;124m\"\u001b[39m)\n",
      "Cell \u001b[1;32mIn[8], line 3\u001b[0m, in \u001b[0;36mturno_usuario\u001b[1;34m(tablero)\u001b[0m\n\u001b[0;32m      1\u001b[0m \u001b[38;5;28;01mdef\u001b[39;00m \u001b[38;5;21mturno_usuario\u001b[39m(tablero):\n\u001b[0;32m      2\u001b[0m     \u001b[38;5;28;01mwhile\u001b[39;00m \u001b[38;5;28;01mTrue\u001b[39;00m:                                                                   \u001b[38;5;66;03m#Mientras no se pierda el turno\u001b[39;00m\n\u001b[1;32m----> 3\u001b[0m         fila \u001b[38;5;241m=\u001b[39m \u001b[38;5;28;43mint\u001b[39;49m\u001b[43m(\u001b[49m\u001b[38;5;28;43minput\u001b[39;49m\u001b[43m(\u001b[49m\u001b[38;5;124;43m\"\u001b[39;49m\u001b[38;5;124;43mIntroduce la fila (0-9) a la que quieres disparar: \u001b[39;49m\u001b[38;5;124;43m\"\u001b[39;49m\u001b[43m)\u001b[49m\u001b[43m)\u001b[49m\n\u001b[0;32m      4\u001b[0m         columna \u001b[38;5;241m=\u001b[39m \u001b[38;5;28mint\u001b[39m(\u001b[38;5;28minput\u001b[39m(\u001b[38;5;124m\"\u001b[39m\u001b[38;5;124mIntroduce la columna (0-9) a la que quieres disparar: \u001b[39m\u001b[38;5;124m\"\u001b[39m))\n\u001b[0;32m      6\u001b[0m         resultado \u001b[38;5;241m=\u001b[39m disparar((fila, columna), tablero)             \u001b[38;5;66;03m#llamada ala función disparar\u001b[39;00m\n",
      "\u001b[1;31mValueError\u001b[0m: invalid literal for int() with base 10: ''"
     ]
    }
   ],
   "source": [
    "#Completo\n",
    "\n",
    "def jugar():\n",
    "    while True:\n",
    "        \n",
    "        print(f\"Bienvenido a Hundir la flota\")\n",
    "        print(f\"Creando tablero\")\n",
    "\n",
    "        time.sleep(1)\n",
    "\n",
    "        tablero_usuario = crear_tablero(10)\n",
    "        tablero_maquina = crear_tablero(10)\n",
    "        print(tablero_usuario)\n",
    "\n",
    "        time.sleep(1)\n",
    "        print(f\"Se va crear tu flota y la de la máquina aleatoriamente con 6 barcos\")\n",
    "        flota_usuario = crear_flota(tablero_usuario)\n",
    "        flota_maquina = crear_flota(tablero_maquina)\n",
    "        time.sleep(1)\n",
    "        \n",
    "        print(tablero_usuario)\n",
    "\n",
    "        time.sleep(1)\n",
    "        print(f\"Creando tu flota de barcos\")\n",
    "        tablero_usuario = colocar_flota(flota_usuario,tablero_usuario)\n",
    "        tablero_maquina = colocar_flota(flota_maquina,tablero_maquina)\n",
    "\n",
    "        time.sleep(1)\n",
    "        print(\"Este es tu tablero: \\n {tablero_usario}\")\n",
    "        print(\"Buena Suerte!\")\n",
    "\n",
    "        time.sleep(0.5)\n",
    "\n",
    "        sistema_de_turnos(tablero_usuario, tablero_maquina)\n",
    "            \n",
    "        jugar_nuevamente = input(\"¿Quieres jugar de nuevo? (True/False): \")\n",
    "        if jugar_nuevamente != \"True\":\n",
    "            print(\" # luego\")\n",
    "            break\n",
    "\n",
    "jugar()"
   ]
  },
  {
   "cell_type": "code",
   "execution_count": null,
   "metadata": {},
   "outputs": [],
   "source": []
  },
  {
   "cell_type": "code",
   "execution_count": 294,
   "metadata": {},
   "outputs": [
    {
     "name": "stdout",
     "output_type": "stream",
     "text": [
      "  O O              \n",
      "    O              \n",
      "    O              \n",
      "    O              \n",
      "O O O              \n",
      "                   \n",
      "  O O O           O\n",
      "                  O\n",
      "                   \n",
      "    O O            \n"
     ]
    }
   ],
   "source": [
    "import random\n",
    "import numpy as np\n",
    "\n",
    "# Función para generar un barco aleatoriamente, asegurando que no se salga del tablero\n",
    "def crear_barco(eslora, tablero):\n",
    "    while True:\n",
    "        casilla_0 = (random.randint(0, 9), random.randint(0, 9))\n",
    "        orientacion = random.choice([\"Vertical\", \"Horizontal\"])\n",
    "\n",
    "        barco = [casilla_0]\n",
    "        casilla = casilla_0\n",
    "\n",
    "        for _ in range(1, eslora):\n",
    "            if orientacion == \"Vertical\":\n",
    "                nueva_casilla = (casilla[0] + 1, casilla[1])\n",
    "            else:\n",
    "                nueva_casilla = (casilla[0], casilla[1] + 1)\n",
    "\n",
    "            if nueva_casilla[0] > 9 or nueva_casilla[1] > 9:\n",
    "                break  \n",
    "            barco.append(nueva_casilla)\n",
    "            casilla = nueva_casilla\n",
    "\n",
    "        if len(barco) == eslora: \n",
    "            if not comprobar_colision(barco, tablero):\n",
    "                return barco\n",
    "\n",
    "def comprobar_colision(barco, tablero):\n",
    "    for i, j in barco:\n",
    "        if tablero[i][j] == 'O':  \n",
    "            return True\n",
    "    return False\n",
    "\n",
    "def colocar_flota(flota, tablero):\n",
    "    flota_barcos = [crear_barco(2, tablero),crear_barco(2, tablero),crear_barco(2, tablero),crear_barco(3, tablero),crear_barco(3, tablero),crear_barco(4, tablero)]\n",
    "    for barco in flota_barcos:\n",
    "        for i, j in barco:\n",
    "            tablero[i][j] = 'O'  \n",
    "    return tablero\n",
    "\n",
    "# Inicializar el tablero vacío (10x10)\n",
    "tablero = np.full((10, 10), ' ')  # Tablero de 10x10 con espacios vacíos (' ')\n",
    "colocar_flota(flota,tablero)\n",
    "# Crear la flota y colocarla en el tablero\n",
    "\n",
    "# Imprimir el tablero con la flota colocada\n",
    "for fila in tablero:\n",
    "    print(\" \".join(fila))\n"
   ]
  }
 ],
 "metadata": {
  "kernelspec": {
   "display_name": "Python 3",
   "language": "python",
   "name": "python3"
  },
  "language_info": {
   "codemirror_mode": {
    "name": "ipython",
    "version": 3
   },
   "file_extension": ".py",
   "mimetype": "text/x-python",
   "name": "python",
   "nbconvert_exporter": "python",
   "pygments_lexer": "ipython3",
   "version": "3.12.5"
  }
 },
 "nbformat": 4,
 "nbformat_minor": 2
}
