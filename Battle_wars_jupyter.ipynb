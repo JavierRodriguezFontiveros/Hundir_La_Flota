{
 "cells": [
  {
   "cell_type": "code",
   "execution_count": 1,
   "metadata": {},
   "outputs": [],
   "source": [
    "import numpy as np\n",
    "import random\n",
    "import time\n",
    "\n",
    "#Importando librerias de tiempo, pandas y random"
   ]
  },
  {
   "cell_type": "code",
   "execution_count": 2,
   "metadata": {},
   "outputs": [],
   "source": [
    "def crear_tablero(tamaño):\n",
    "    tablero = np.full((tamaño,tamaño), \"_\")\n",
    "    return tablero\n",
    "tablero_copy = crear_tablero(10)\n",
    "\n",
    "#Creando el tablero con pandas"
   ]
  },
  {
   "cell_type": "code",
   "execution_count": 3,
   "metadata": {},
   "outputs": [],
   "source": [
    "def crear_barco(eslora):\n",
    "    casilla_0 = (random.randint(0,9), random.randint(0,9))  #2 posiciones aleatorias\n",
    "    orientacion = random.choice([\"Vertical\", \"Horizontal\"])  #posicion aleatoria\n",
    "\n",
    "    barco = [casilla_0] #Los barcos seran listas\n",
    "    casilla = casilla_0\n",
    "\n",
    "    while len(barco) < eslora:               #Código para hacerlo crecer en la longitud y posicion que le toque\n",
    "        if orientacion == \"Vertical\":\n",
    "            casilla = (casilla[0]+1, casilla[1])\n",
    "            barco.append(casilla) # Vertical          #Suma valor al barco\n",
    "        else:\n",
    "            casilla = (casilla[0], casilla[1]+1)\n",
    "            barco.append(casilla) # Horizontal\n",
    "    \n",
    "    for x,y in barco:\n",
    "        if x == len(tablero_copy) or y == len(tablero_copy):\n",
    "            return crear_barco(eslora)\n",
    "\n",
    "    return barco                             #cada barco será una lista de tuplas"
   ]
  },
  {
   "cell_type": "code",
   "execution_count": 4,
   "metadata": {},
   "outputs": [],
   "source": [
    "def disparar(casilla, tablero):\n",
    "    if tablero[casilla] == \"O\":              #la O es barco, la X tocado y la A agua\n",
    "        print(\"Tocado\")\n",
    "        tablero[casilla] = \"X\"\n",
    "    elif tablero[casilla] == '_': \n",
    "        print(\"Agua\")\n",
    "        tablero[casilla] = \"A\"\n",
    "    else:\n",
    "        print(\"Casilla repetida\")\n",
    "    return tablero"
   ]
  },
  {
   "cell_type": "code",
   "execution_count": 5,
   "metadata": {},
   "outputs": [],
   "source": [
    "def crear_flota(tablero):\n",
    "    flota_barcos =[crear_barco(2),crear_barco(2),crear_barco(2), crear_barco(3), crear_barco(3),crear_barco(4)]\n",
    "    for barcos in flota_barcos:\n",
    "        for i, j in barcos:\n",
    "            if tablero[i,j] == \"O\":\n",
    "                crear_flota(tablero)\n",
    "            else:\n",
    "                return flota_barcos\n",
    "\n",
    "#Crear una lista de barcos, de uno en uno ira comprobando que donde estén colocados no haya otro barco,\n",
    "#Tenemos una recursividad"
   ]
  },
  {
   "cell_type": "code",
   "execution_count": 6,
   "metadata": {},
   "outputs": [],
   "source": [
    "def colocar_flota(flota,tablero):\n",
    "    for barco in flota:\n",
    "        tablero = np.array(barco)    #\n",
    "    return tablero"
   ]
  },
  {
   "cell_type": "code",
   "execution_count": 7,
   "metadata": {},
   "outputs": [],
   "source": [
    "def turno_usuario(tablero):\n",
    "    while True:                                                                   #Mientras no se pierda el turno\n",
    "        fila = int(input(\"Introduce la fila (0-9) a la que quieres disparar: \"))\n",
    "        columna = int(input(\"Introduce la columna (0-9) a la que quieres disparar: \"))\n",
    "\n",
    "        resultado = disparar((fila, columna), tablero)             #llamada ala función disparar\n",
    "        print(f\"Disparaste a {(fila, columna)}:\\n {resultado}\")     #Ubicación del tiro por pantalla\n",
    "        \n",
    "        if resultado == \"Agua\":                                     #Posibilidades\n",
    "            print(\"Fallaste. Fin de tu turno.\")\n",
    "            break\n",
    "        elif resultado == \"Tocado\":\n",
    "            print(\"Has acertado sigue disparando.\")\n",
    "            continue\n",
    "        else:\n",
    "            print(\"Casilla repetida,perdiste el turno\")\n",
    "            break"
   ]
  },
  {
   "cell_type": "code",
   "execution_count": 8,
   "metadata": {},
   "outputs": [],
   "source": [
    "def turno_maquina(tablero):\n",
    "    while True:                      #Mientras acierte seguirá disparando de forma random\n",
    "        fila = random.randint(0, 9)\n",
    "        columna = random.randint(0, 9)\n",
    "        \n",
    "        resultado = disparar((fila, columna), tablero)\n",
    "        print(f\"La máquina disparó a {(fila, columna)}: \\n {resultado}\")\n",
    "        \n",
    "        if resultado == \"Agua\":\n",
    "            print(\"La máquina falló. Fin de su turno.\")\n",
    "            break  \n",
    "\n",
    "        elif resultado == \"Tocado\":\n",
    "            print(\"La máquina acertó. Sigue disparando.\")\n",
    "            continue \n",
    "        \n",
    "        else:\n",
    "            print(\"Casilla repetida, pierde el turno\")\n",
    "            break\n"
   ]
  },
  {
   "cell_type": "code",
   "execution_count": 9,
   "metadata": {},
   "outputs": [],
   "source": [
    "def verificar_victoria(tablero_oponente):\n",
    "    return not np.any(tablero_oponente == \"O\")\n",
    "\n",
    "#Si quedan alguna \"O\" nos dá True"
   ]
  },
  {
   "cell_type": "code",
   "execution_count": 10,
   "metadata": {},
   "outputs": [],
   "source": [
    "def sistema_de_turnos(tablero_usuario, tablero_maquina):\n",
    "    print(\"Que comience el juego\")\n",
    "    \n",
    "    while verificar_victoria(tablero_maquina) and verificar_victoria(tablero_usuario): #Mientras ninguno haya ganado..\n",
    "        print(\"\\n--- Tu turno ---\")    \n",
    "        turno_usuario(tablero_maquina)\n",
    "        \n",
    "        if not verificar_victoria(tablero_maquina):   #Verifica si gana\n",
    "            print(\"Has ganado makena.\")\n",
    "            break\n",
    "        \n",
    "        print(\"\\n--- Turno de la Máquina ---\")   \n",
    "        turno_maquina(tablero_usuario)\n",
    "\n",
    "        if not verificar_victoria(tablero_usuario):      \n",
    "            print(\"La máquina te ha ganado crack\")\n",
    "            break"
   ]
  },
  {
   "cell_type": "code",
   "execution_count": null,
   "metadata": {},
   "outputs": [],
   "source": [
    "#Completo\n",
    "\n",
    "def jugar():\n",
    "    while True:\n",
    "        \n",
    "        print(f\"Bienvenido a Hundir la flota\")\n",
    "        print(f\"Creando tablero\")\n",
    "\n",
    "        time.sleep(1)\n",
    "\n",
    "        tablero_usuario = crear_tablero(10)\n",
    "        tablero_maquina = crear_tablero(10)\n",
    "        print(tablero_usuario)\n",
    "\n",
    "        time.sleep(1)\n",
    "        print(f\"Se va crear tu flota y la de la máquina aleatoriamente con 6 barcos\")\n",
    "        flota_usuario = crear_flota(tablero_usuario)\n",
    "        flota_maquina = crear_flota(tablero_maquina)\n",
    "        time.sleep(1)\n",
    "        \n",
    "        print(tablero_usuario)\n",
    "\n",
    "        time.sleep(1)\n",
    "        print(f\"Creando tu flota de barcos\")\n",
    "        tablero_usuario = colocar_flota(flota_usuario,tablero_usuario)\n",
    "        tablero_maquina = colocar_flota(flota_maquina,tablero_maquina)\n",
    "\n",
    "        time.sleep(1)\n",
    "        print(\"Este es tu tablero: \\n {tablero_usario}\")\n",
    "        print(\"Buena Suerte!\")\n",
    "\n",
    "        time.sleep(0.5)\n",
    "\n",
    "        sistema_de_turnos(tablero_usuario, tablero_maquina)\n",
    "            \n",
    "        jugar_nuevamente = input(\"¿Quieres jugar de nuevo? (True/False): \")\n",
    "        if jugar_nuevamente != \"True\":\n",
    "            print(\" # luego\")\n",
    "            break\n",
    "\n",
    "jugar()"
   ]
  },
  {
   "cell_type": "code",
   "execution_count": null,
   "metadata": {},
   "outputs": [],
   "source": []
  }
 ],
 "metadata": {
  "kernelspec": {
   "display_name": "Python 3",
   "language": "python",
   "name": "python3"
  },
  "language_info": {
   "codemirror_mode": {
    "name": "ipython",
    "version": 3
   },
   "file_extension": ".py",
   "mimetype": "text/x-python",
   "name": "python",
   "nbconvert_exporter": "python",
   "pygments_lexer": "ipython3",
   "version": "3.12.5"
  }
 },
 "nbformat": 4,
 "nbformat_minor": 2
}
